{
  "nbformat": 4,
  "nbformat_minor": 0,
  "metadata": {
    "colab": {
      "name": "numbers violence against women.ipynb",
      "provenance": []
    },
    "kernelspec": {
      "name": "python3",
      "display_name": "Python 3"
    },
    "language_info": {
      "name": "python"
    }
  },
  "cells": [
    {
      "cell_type": "code",
      "metadata": {
        "id": "bwXf-UWpfu0-"
      },
      "source": [
        ""
      ],
      "execution_count": null,
      "outputs": []
    },
    {
      "cell_type": "code",
      "metadata": {
        "id": "cHQLGzT1v6tc"
      },
      "source": [
        "import pandas as pd\n",
        "%matplotlib inline"
      ],
      "execution_count": null,
      "outputs": []
    },
    {
      "cell_type": "code",
      "metadata": {
        "colab": {
          "base_uri": "https://localhost:8080/"
        },
        "id": "JTWtQtNZ8xme",
        "outputId": "05f29d5d-0300-45db-ffee-ec58f3b7a187"
      },
      "source": [
        "from google.colab import drive\n",
        "drive.mount('/content/drive')"
      ],
      "execution_count": null,
      "outputs": [
        {
          "output_type": "stream",
          "text": [
            "Drive already mounted at /content/drive; to attempt to forcibly remount, call drive.mount(\"/content/drive\", force_remount=True).\n"
          ],
          "name": "stdout"
        }
      ]
    },
    {
      "cell_type": "markdown",
      "metadata": {
        "id": "ea8JN_ntv6tf"
      },
      "source": [
        "## 1) import data και καθάρισμα"
      ]
    },
    {
      "cell_type": "code",
      "metadata": {
        "id": "GoYhkdVqv6tg"
      },
      "source": [
        "df= pd.read_csv(\"DP_LIVE_05072021233719417.csv\")"
      ],
      "execution_count": null,
      "outputs": []
    },
    {
      "cell_type": "code",
      "metadata": {
        "colab": {
          "base_uri": "https://localhost:8080/"
        },
        "id": "geS49nKEv6tk",
        "outputId": "e6b2af0a-fba5-471c-f5ff-708d537ec15e"
      },
      "source": [
        "df.shape"
      ],
      "execution_count": null,
      "outputs": [
        {
          "output_type": "execute_result",
          "data": {
            "text/plain": [
              "(27, 8)"
            ]
          },
          "metadata": {
            "tags": []
          },
          "execution_count": 32
        }
      ]
    },
    {
      "cell_type": "code",
      "metadata": {
        "colab": {
          "base_uri": "https://localhost:8080/"
        },
        "id": "ku66HRIRv6tl",
        "outputId": "1a60accf-db4b-4d09-be6e-e8d59179943b"
      },
      "source": [
        "df.dtypes"
      ],
      "execution_count": null,
      "outputs": [
        {
          "output_type": "execute_result",
          "data": {
            "text/plain": [
              "LOCATION       object\n",
              "INDICATOR      object\n",
              "SUBJECT        object\n",
              "MEASURE        object\n",
              "FREQUENCY      object\n",
              "TIME            int64\n",
              "Value         float64\n",
              "Flag Codes    float64\n",
              "dtype: object"
            ]
          },
          "metadata": {
            "tags": []
          },
          "execution_count": 33
        }
      ]
    },
    {
      "cell_type": "code",
      "metadata": {
        "colab": {
          "base_uri": "https://localhost:8080/"
        },
        "id": "XUY7OzUJl30i",
        "outputId": "fd20fdfb-d447-4ab5-807b-a12d6f1f88b0"
      },
      "source": [
        "df.loc()"
      ],
      "execution_count": null,
      "outputs": [
        {
          "output_type": "execute_result",
          "data": {
            "text/plain": [
              "<pandas.core.indexing._LocIndexer at 0x7f2ed7e30bf0>"
            ]
          },
          "metadata": {
            "tags": []
          },
          "execution_count": 34
        }
      ]
    },
    {
      "cell_type": "code",
      "metadata": {
        "colab": {
          "base_uri": "https://localhost:8080/",
          "height": 204
        },
        "id": "qUopV462lbUm",
        "outputId": "cd0e7810-b54e-4540-f0f7-d55428210537"
      },
      "source": [
        "df.head()"
      ],
      "execution_count": null,
      "outputs": [
        {
          "output_type": "execute_result",
          "data": {
            "text/html": [
              "<div>\n",
              "<style scoped>\n",
              "    .dataframe tbody tr th:only-of-type {\n",
              "        vertical-align: middle;\n",
              "    }\n",
              "\n",
              "    .dataframe tbody tr th {\n",
              "        vertical-align: top;\n",
              "    }\n",
              "\n",
              "    .dataframe thead th {\n",
              "        text-align: right;\n",
              "    }\n",
              "</style>\n",
              "<table border=\"1\" class=\"dataframe\">\n",
              "  <thead>\n",
              "    <tr style=\"text-align: right;\">\n",
              "      <th></th>\n",
              "      <th>LOCATION</th>\n",
              "      <th>INDICATOR</th>\n",
              "      <th>SUBJECT</th>\n",
              "      <th>TIME</th>\n",
              "      <th>FREQUENCY</th>\n",
              "    </tr>\n",
              "  </thead>\n",
              "  <tbody>\n",
              "    <tr>\n",
              "      <th>0</th>\n",
              "      <td>FIN</td>\n",
              "      <td>VIOLWOMEN</td>\n",
              "      <td>ATTITUDEVIOL</td>\n",
              "      <td>2019</td>\n",
              "      <td>A</td>\n",
              "    </tr>\n",
              "    <tr>\n",
              "      <th>1</th>\n",
              "      <td>FRA</td>\n",
              "      <td>VIOLWOMEN</td>\n",
              "      <td>ATTITUDEVIOL</td>\n",
              "      <td>2019</td>\n",
              "      <td>A</td>\n",
              "    </tr>\n",
              "    <tr>\n",
              "      <th>2</th>\n",
              "      <td>DEU</td>\n",
              "      <td>VIOLWOMEN</td>\n",
              "      <td>ATTITUDEVIOL</td>\n",
              "      <td>2019</td>\n",
              "      <td>A</td>\n",
              "    </tr>\n",
              "    <tr>\n",
              "      <th>3</th>\n",
              "      <td>HUN</td>\n",
              "      <td>VIOLWOMEN</td>\n",
              "      <td>ATTITUDEVIOL</td>\n",
              "      <td>2019</td>\n",
              "      <td>A</td>\n",
              "    </tr>\n",
              "    <tr>\n",
              "      <th>4</th>\n",
              "      <td>ITA</td>\n",
              "      <td>VIOLWOMEN</td>\n",
              "      <td>ATTITUDEVIOL</td>\n",
              "      <td>2019</td>\n",
              "      <td>A</td>\n",
              "    </tr>\n",
              "  </tbody>\n",
              "</table>\n",
              "</div>"
            ],
            "text/plain": [
              "  LOCATION  INDICATOR       SUBJECT  TIME FREQUENCY\n",
              "0      FIN  VIOLWOMEN  ATTITUDEVIOL  2019         A\n",
              "1      FRA  VIOLWOMEN  ATTITUDEVIOL  2019         A\n",
              "2      DEU  VIOLWOMEN  ATTITUDEVIOL  2019         A\n",
              "3      HUN  VIOLWOMEN  ATTITUDEVIOL  2019         A\n",
              "4      ITA  VIOLWOMEN  ATTITUDEVIOL  2019         A"
            ]
          },
          "metadata": {
            "tags": []
          },
          "execution_count": 87
        }
      ]
    },
    {
      "cell_type": "markdown",
      "metadata": {
        "id": "BhWkdMcTv6tn"
      },
      "source": [
        "## 3) Ποιοι είναι οι 10 χωρες με τα περισσότερα περιστατικά βιας"
      ]
    },
    {
      "cell_type": "code",
      "metadata": {
        "colab": {
          "base_uri": "https://localhost:8080/",
          "height": 359
        },
        "id": "W6tzCL9Xv6to",
        "outputId": "9b59119e-2a05-403f-ee84-f63ebd3b77db"
      },
      "source": [
        "df.sort_values(by='LOCATION', ascending = False)[:10]"
      ],
      "execution_count": null,
      "outputs": [
        {
          "output_type": "execute_result",
          "data": {
            "text/html": [
              "<div>\n",
              "<style scoped>\n",
              "    .dataframe tbody tr th:only-of-type {\n",
              "        vertical-align: middle;\n",
              "    }\n",
              "\n",
              "    .dataframe tbody tr th {\n",
              "        vertical-align: top;\n",
              "    }\n",
              "\n",
              "    .dataframe thead th {\n",
              "        text-align: right;\n",
              "    }\n",
              "</style>\n",
              "<table border=\"1\" class=\"dataframe\">\n",
              "  <thead>\n",
              "    <tr style=\"text-align: right;\">\n",
              "      <th></th>\n",
              "      <th>LOCATION</th>\n",
              "      <th>INDICATOR</th>\n",
              "      <th>SUBJECT</th>\n",
              "      <th>TIME</th>\n",
              "      <th>FREQUENCY</th>\n",
              "    </tr>\n",
              "  </thead>\n",
              "  <tbody>\n",
              "    <tr>\n",
              "      <th>8</th>\n",
              "      <td>SWE</td>\n",
              "      <td>VIOLWOMEN</td>\n",
              "      <td>ATTITUDEVIOL</td>\n",
              "      <td>2019</td>\n",
              "      <td>A</td>\n",
              "    </tr>\n",
              "    <tr>\n",
              "      <th>12</th>\n",
              "      <td>SVN</td>\n",
              "      <td>VIOLWOMEN</td>\n",
              "      <td>ATTITUDEVIOL</td>\n",
              "      <td>2019</td>\n",
              "      <td>A</td>\n",
              "    </tr>\n",
              "    <tr>\n",
              "      <th>21</th>\n",
              "      <td>SVK</td>\n",
              "      <td>VIOLWOMEN</td>\n",
              "      <td>ATTITUDEVIOL</td>\n",
              "      <td>2019</td>\n",
              "      <td>A</td>\n",
              "    </tr>\n",
              "    <tr>\n",
              "      <th>11</th>\n",
              "      <td>ROU</td>\n",
              "      <td>VIOLWOMEN</td>\n",
              "      <td>ATTITUDEVIOL</td>\n",
              "      <td>2019</td>\n",
              "      <td>A</td>\n",
              "    </tr>\n",
              "    <tr>\n",
              "      <th>20</th>\n",
              "      <td>PRT</td>\n",
              "      <td>VIOLWOMEN</td>\n",
              "      <td>ATTITUDEVIOL</td>\n",
              "      <td>2019</td>\n",
              "      <td>A</td>\n",
              "    </tr>\n",
              "    <tr>\n",
              "      <th>6</th>\n",
              "      <td>POL</td>\n",
              "      <td>VIOLWOMEN</td>\n",
              "      <td>ATTITUDEVIOL</td>\n",
              "      <td>2019</td>\n",
              "      <td>A</td>\n",
              "    </tr>\n",
              "    <tr>\n",
              "      <th>5</th>\n",
              "      <td>NLD</td>\n",
              "      <td>VIOLWOMEN</td>\n",
              "      <td>ATTITUDEVIOL</td>\n",
              "      <td>2019</td>\n",
              "      <td>A</td>\n",
              "    </tr>\n",
              "    <tr>\n",
              "      <th>26</th>\n",
              "      <td>MLT</td>\n",
              "      <td>VIOLWOMEN</td>\n",
              "      <td>ATTITUDEVIOL</td>\n",
              "      <td>2019</td>\n",
              "      <td>A</td>\n",
              "    </tr>\n",
              "    <tr>\n",
              "      <th>24</th>\n",
              "      <td>LVA</td>\n",
              "      <td>VIOLWOMEN</td>\n",
              "      <td>ATTITUDEVIOL</td>\n",
              "      <td>2019</td>\n",
              "      <td>A</td>\n",
              "    </tr>\n",
              "    <tr>\n",
              "      <th>19</th>\n",
              "      <td>LUX</td>\n",
              "      <td>VIOLWOMEN</td>\n",
              "      <td>ATTITUDEVIOL</td>\n",
              "      <td>2019</td>\n",
              "      <td>A</td>\n",
              "    </tr>\n",
              "  </tbody>\n",
              "</table>\n",
              "</div>"
            ],
            "text/plain": [
              "   LOCATION  INDICATOR       SUBJECT  TIME FREQUENCY\n",
              "8       SWE  VIOLWOMEN  ATTITUDEVIOL  2019         A\n",
              "12      SVN  VIOLWOMEN  ATTITUDEVIOL  2019         A\n",
              "21      SVK  VIOLWOMEN  ATTITUDEVIOL  2019         A\n",
              "11      ROU  VIOLWOMEN  ATTITUDEVIOL  2019         A\n",
              "20      PRT  VIOLWOMEN  ATTITUDEVIOL  2019         A\n",
              "6       POL  VIOLWOMEN  ATTITUDEVIOL  2019         A\n",
              "5       NLD  VIOLWOMEN  ATTITUDEVIOL  2019         A\n",
              "26      MLT  VIOLWOMEN  ATTITUDEVIOL  2019         A\n",
              "24      LVA  VIOLWOMEN  ATTITUDEVIOL  2019         A\n",
              "19      LUX  VIOLWOMEN  ATTITUDEVIOL  2019         A"
            ]
          },
          "metadata": {
            "tags": []
          },
          "execution_count": 86
        }
      ]
    },
    {
      "cell_type": "markdown",
      "metadata": {
        "id": "XUwhQKcPvZm-"
      },
      "source": [
        "ΔΙΑΓΡΑΜΜΑ 1"
      ]
    },
    {
      "cell_type": "code",
      "metadata": {
        "colab": {
          "base_uri": "https://localhost:8080/",
          "height": 265
        },
        "id": "QK10LFEZscCu",
        "outputId": "57f5f025-ffe4-45a0-b447-9a73799c1e71"
      },
      "source": [
        "# libraries\n",
        "import numpy as np\n",
        "import matplotlib.pyplot as plt\n",
        " \n",
        "# create a dataset\n",
        "height = [8, 12, 13, 14, 9, 23, 15, 2, 16, 7, 10,\t0, 1, 17, 22, 3, 18, 4, 19, 26, 6]\n",
        "bars = ('SWE', 'SVN', 'BEL', 'BGR', 'CYP','CZE', 'DEU','DNK', 'ESP', 'EST', 'FIN', 'FRA', 'GRC', 'HRV', 'HUN', 'HUN', 'IRL', 'ITA', 'LUX', 'MLT', 'POL')\n",
        "\n",
        "\n",
        "\n",
        "x_pos = np.arange(len(bars))\n",
        "\n",
        "# Create bars\n",
        "plt.bar(x_pos, height, color=(0.2, 0.4, 0.6, 0.6))\n",
        "\n",
        "# Create names on the x-axis\n",
        "plt.xticks(x_pos, bars)\n",
        "\n",
        "# Show graph\n",
        "plt.show()"
      ],
      "execution_count": null,
      "outputs": [
        {
          "output_type": "display_data",
          "data": {
            "image/png": "[encoded data removed]",
            "text/plain": [
              "<Figure size 432x288 with 1 Axes>"
            ]
          },
          "metadata": {
            "tags": [],
            "needs_background": "light"
          }
        }
      ]
    },
    {
      "cell_type": "code",
      "metadata": {
        "colab": {
          "base_uri": "https://localhost:8080/",
          "height": 265
        },
        "id": "HeT_wJiNvF3Z",
        "outputId": "9fd7cbf9-2313-436e-f625-29bc433cf22b"
      },
      "source": [
        "# libraries\n",
        "import numpy as np\n",
        "import matplotlib.pyplot as plt\n",
        " \n",
        "# create a dataset\n",
        "height = [8, 12, 13, 14, 9, 23, 15, 2, 16, 7, 10,\t0, 1, 17, 22, 3, 18, 4, 19, 26, 6]\n",
        "bars = ('SWE', 'SVN', 'BEL', 'BGR', 'CYP','CZE', 'DEU','DNK', 'ESP', 'EST', 'FIN', 'FRA', 'GRC', 'HRV', 'HUN', 'HUN', 'IRL', 'ITA', 'LUX', 'MLT', 'POL')\n",
        "x_pos = np.arange(len(bars))\n",
        "\n",
        "# Create bars with different colors\n",
        "plt.bar(x_pos, height, color=['orange', 'red', 'green', 'blue', 'cyan'])\n",
        "\n",
        "# Create names on the x-axis\n",
        "plt.xticks(x_pos, bars)\n",
        "\n",
        "# Show graph\n",
        "plt.show()"
      ],
      "execution_count": null,
      "outputs": [
        {
          "output_type": "display_data",
          "data": {
            "image/png": "[encoded data removed]",
            "text/plain": [
              "<Figure size 432x288 with 1 Axes>"
            ]
          },
          "metadata": {
            "tags": [],
            "needs_background": "light"
          }
        }
      ]
    },
    {
      "cell_type": "code",
      "metadata": {
        "colab": {
          "base_uri": "https://localhost:8080/",
          "height": 204
        },
        "id": "AR4fViUHoFpd",
        "outputId": "f58680e7-c14d-43f3-faa5-af1c1233e8f7"
      },
      "source": [
        "df.head()"
      ],
      "execution_count": null,
      "outputs": [
        {
          "output_type": "execute_result",
          "data": {
            "text/html": [
              "<div>\n",
              "<style scoped>\n",
              "    .dataframe tbody tr th:only-of-type {\n",
              "        vertical-align: middle;\n",
              "    }\n",
              "\n",
              "    .dataframe tbody tr th {\n",
              "        vertical-align: top;\n",
              "    }\n",
              "\n",
              "    .dataframe thead th {\n",
              "        text-align: right;\n",
              "    }\n",
              "</style>\n",
              "<table border=\"1\" class=\"dataframe\">\n",
              "  <thead>\n",
              "    <tr style=\"text-align: right;\">\n",
              "      <th></th>\n",
              "      <th>LOCATION</th>\n",
              "      <th>INDICATOR</th>\n",
              "      <th>SUBJECT</th>\n",
              "      <th>TIME</th>\n",
              "      <th>FREQUENCY</th>\n",
              "    </tr>\n",
              "  </thead>\n",
              "  <tbody>\n",
              "    <tr>\n",
              "      <th>0</th>\n",
              "      <td>FIN</td>\n",
              "      <td>VIOLWOMEN</td>\n",
              "      <td>ATTITUDEVIOL</td>\n",
              "      <td>2019</td>\n",
              "      <td>A</td>\n",
              "    </tr>\n",
              "    <tr>\n",
              "      <th>1</th>\n",
              "      <td>FRA</td>\n",
              "      <td>VIOLWOMEN</td>\n",
              "      <td>ATTITUDEVIOL</td>\n",
              "      <td>2019</td>\n",
              "      <td>A</td>\n",
              "    </tr>\n",
              "    <tr>\n",
              "      <th>2</th>\n",
              "      <td>DEU</td>\n",
              "      <td>VIOLWOMEN</td>\n",
              "      <td>ATTITUDEVIOL</td>\n",
              "      <td>2019</td>\n",
              "      <td>A</td>\n",
              "    </tr>\n",
              "    <tr>\n",
              "      <th>3</th>\n",
              "      <td>HUN</td>\n",
              "      <td>VIOLWOMEN</td>\n",
              "      <td>ATTITUDEVIOL</td>\n",
              "      <td>2019</td>\n",
              "      <td>A</td>\n",
              "    </tr>\n",
              "    <tr>\n",
              "      <th>4</th>\n",
              "      <td>ITA</td>\n",
              "      <td>VIOLWOMEN</td>\n",
              "      <td>ATTITUDEVIOL</td>\n",
              "      <td>2019</td>\n",
              "      <td>A</td>\n",
              "    </tr>\n",
              "  </tbody>\n",
              "</table>\n",
              "</div>"
            ],
            "text/plain": [
              "  LOCATION  INDICATOR       SUBJECT  TIME FREQUENCY\n",
              "0      FIN  VIOLWOMEN  ATTITUDEVIOL  2019         A\n",
              "1      FRA  VIOLWOMEN  ATTITUDEVIOL  2019         A\n",
              "2      DEU  VIOLWOMEN  ATTITUDEVIOL  2019         A\n",
              "3      HUN  VIOLWOMEN  ATTITUDEVIOL  2019         A\n",
              "4      ITA  VIOLWOMEN  ATTITUDEVIOL  2019         A"
            ]
          },
          "metadata": {
            "tags": []
          },
          "execution_count": 85
        }
      ]
    },
    {
      "cell_type": "code",
      "metadata": {
        "id": "g9z_Uu6Gro0I"
      },
      "source": [
        "df=df= {'LOCATION': ['SWE', 'SVN', 'BEL', 'BGR', 'CYP','CZE', 'DEU','DNK', 'ESP', 'EST', 'FIN', 'FRA', 'GRC', 'HRV', 'HUN', 'HUN', 'IRL', 'ITA', 'LUX', 'MLT', 'POL'],\n",
        "        'Height': [8, 12, 13, 14, 9, 23, 15, 2, 16, 7, 10,\t0, 1, 17, 22, 3, 18, 4, 19, 26, 6],\n",
        "        'YEAR': [2019, 2019, 2019, 2019, 2019, 2019, 2019, 2019, 2019, 2019, 2019, 2019, 2019, 2019, 2019, 2019, 2019 ,2019, 2019]}"
      ],
      "execution_count": null,
      "outputs": []
    },
    {
      "cell_type": "code",
      "metadata": {
        "id": "aghscP637f6V"
      },
      "source": [
        "import plotly.express as px\n",
        "import pandas as pd\n"
      ],
      "execution_count": 2,
      "outputs": []
    }
  ]
}